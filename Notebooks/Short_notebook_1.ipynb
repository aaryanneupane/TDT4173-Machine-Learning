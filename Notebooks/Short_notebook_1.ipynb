version https://git-lfs.github.com/spec/v1
oid sha256:07a8bb4459d2b393def728f381e6748b7c500b0e6bf28246269dd0781323fe44
size 7882482
