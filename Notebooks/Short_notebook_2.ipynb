version https://git-lfs.github.com/spec/v1
oid sha256:5e32d03bcd84438c107f7c9c84849e34409967fb775c992a8c315823f0ee57e7
size 7672236
